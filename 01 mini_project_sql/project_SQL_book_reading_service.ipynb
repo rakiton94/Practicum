{
 "cells": [
  {
   "cell_type": "markdown",
   "metadata": {},
   "source": [
    "# Проект по SQL"
   ]
  },
  {
   "cell_type": "markdown",
   "metadata": {},
   "source": [
    "**Описание проекта**   \n",
    "Коронавирус застал мир врасплох, изменив привычный порядок вещей. На какое-то время жители городов перестали выходить на улицу, посещать кафе и торговые центры. Зато стало больше времени для книг. Это заметили стартаперы — и бросились создавать приложения для тех, кто любит читать.\n",
    "Ваша компания решила быть на волне и купила крупный сервис для чтения книг по подписке.   \n",
    "\n",
    "**Цель исследования**   \n",
    "Проанализировать базу данных. В ней — информация о книгах, издательствах, авторах, а также пользовательские обзоры книг. Эти данные помогут сформулировать ценностное предложение для нового продукта."
   ]
  },
  {
   "cell_type": "markdown",
   "metadata": {},
   "source": [
    "**Описание данных**   \n",
    "\n",
    "**Таблица books** содержит данные о книгах:\n",
    "-\tbook_id — идентификатор книги;\n",
    "-\tauthor_id — идентификатор автора;\n",
    "-\ttitle — название книги;\n",
    "-\tnum_pages — количество страниц;\n",
    "-\tpublication_date — дата публикации книги;\n",
    "-\tpublisher_id — идентификатор издателя.   \n",
    "\n",
    "**Таблица authors** содержит данные об авторах:\n",
    "-\tauthor_id — идентификатор автора;\n",
    "-\tauthor — имя автора.   \n",
    "\n",
    "**Таблица publishers** содержит данные об издательствах:\n",
    "-\tpublisher_id — идентификатор издательства;\n",
    "-\tpublisher — название издательства;   \n",
    "\n",
    "**Таблица ratings** содержит данные о пользовательских оценках книг:\n",
    "-\trating_id — идентификатор оценки;\n",
    "-\tbook_id — идентификатор книги;\n",
    "-\tusername — имя пользователя, оставившего оценку;\n",
    "-\trating — оценка книги.   \n",
    " \n",
    "**Таблица reviews** содержит данные о пользовательских обзорах:\n",
    "-\treview_id — идентификатор обзора;\n",
    "-\tbook_id — идентификатор книги;\n",
    "-\tusername — имя автора обзора;\n",
    "-\ttext — текст обзора.\n"
   ]
  },
  {
   "cell_type": "markdown",
   "metadata": {},
   "source": [
    "**Схема данных**\n",
    "<img src=https://pictures.s3.yandex.net/resources/scheme_1589269096.png><br><hr style=\"border: 10px solid #aecad4;\" />"
   ]
  },
  {
   "cell_type": "markdown",
   "metadata": {
    "toc": true
   },
   "source": [
    "<h1>Содержание<span class=\"tocSkip\"></span></h1>\n",
    "<div class=\"toc\"><ul class=\"toc-item\"><li><span><a href=\"#Подключение-к-базе-данных\" data-toc-modified-id=\"Подключение-к-базе-данных-1\"><span class=\"toc-item-num\">1&nbsp;&nbsp;</span>Подключение к базе данных</a></span></li><li><span><a href=\"#Исследуем-таблицы\" data-toc-modified-id=\"Исследуем-таблицы-2\"><span class=\"toc-item-num\">2&nbsp;&nbsp;</span>Исследуем таблицы</a></span></li><li><span><a href=\"#Задания\" data-toc-modified-id=\"Задания-3\"><span class=\"toc-item-num\">3&nbsp;&nbsp;</span>Задания</a></span><ul class=\"toc-item\"><li><span><a href=\"#Посчитайте,-сколько-книг-вышло-после-1-января-2000-года;\" data-toc-modified-id=\"Посчитайте,-сколько-книг-вышло-после-1-января-2000-года;-3.1\"><span class=\"toc-item-num\">3.1&nbsp;&nbsp;</span>Посчитайте, сколько книг вышло после 1 января 2000 года;</a></span></li><li><span><a href=\"#Для-каждой-книги-посчитайте-количество-обзоров-и-среднюю-оценку;\" data-toc-modified-id=\"Для-каждой-книги-посчитайте-количество-обзоров-и-среднюю-оценку;-3.2\"><span class=\"toc-item-num\">3.2&nbsp;&nbsp;</span>Для каждой книги посчитайте количество обзоров и среднюю оценку;</a></span></li><li><span><a href=\"#Определите-издательство,-которое-выпустило-наибольшее-число-книг-толще-50-страниц-—-так-вы-исключите-из-анализа-брошюры;\" data-toc-modified-id=\"Определите-издательство,-которое-выпустило-наибольшее-число-книг-толще-50-страниц-—-так-вы-исключите-из-анализа-брошюры;-3.3\"><span class=\"toc-item-num\">3.3&nbsp;&nbsp;</span>Определите издательство, которое выпустило наибольшее число книг толще 50 страниц — так вы исключите из анализа брошюры;</a></span></li><li><span><a href=\"#Определите-автора-с-самой-высокой-средней-оценкой-книг-—-учитывайте-только-книги-с-50-и-более-оценками;\" data-toc-modified-id=\"Определите-автора-с-самой-высокой-средней-оценкой-книг-—-учитывайте-только-книги-с-50-и-более-оценками;-3.4\"><span class=\"toc-item-num\">3.4&nbsp;&nbsp;</span>Определите автора с самой высокой средней оценкой книг — учитывайте только книги с 50 и более оценками;</a></span></li><li><span><a href=\"#Посчитайте-среднее-количество-обзоров-от-пользователей,-которые-поставили-больше-48-оценок.\" data-toc-modified-id=\"Посчитайте-среднее-количество-обзоров-от-пользователей,-которые-поставили-больше-48-оценок.-3.5\"><span class=\"toc-item-num\">3.5&nbsp;&nbsp;</span>Посчитайте среднее количество обзоров от пользователей, которые поставили больше 48 оценок.</a></span></li></ul></li><li><span><a href=\"#Вывод\" data-toc-modified-id=\"Вывод-4\"><span class=\"toc-item-num\">4&nbsp;&nbsp;</span>Вывод</a></span></li></ul></div>"
   ]
  },
  {
   "cell_type": "markdown",
   "metadata": {},
   "source": [
    "## Подключение к базе данных"
   ]
  },
  {
   "cell_type": "code",
   "execution_count": 1,
   "metadata": {},
   "outputs": [],
   "source": [
    "# импортируем библиотеки\n",
    "import pandas as pd\n",
    "from sqlalchemy import text, create_engine"
   ]
  },
  {
   "cell_type": "code",
   "execution_count": 2,
   "metadata": {},
   "outputs": [],
   "source": [
    "# устанавливаем параметры\n",
    "db_config = {'user': 'praktikum_student', # имя пользователя\n",
    "'pwd': 'Sdf4$2;d-d30pp', # пароль\n",
    "'host': 'rc1b-wcoijxj3yxfsf3fs.mdb.yandexcloud.net',\n",
    "'port': 6432, # порт подключения\n",
    "'db': 'data-analyst-final-project-db'} # название базы данных\n",
    "connection_string = 'postgresql://{user}:{pwd}@{host}:{port}/{db}'.format(**db_config)\n",
    "# сохраняем коннектор\n",
    "engine = create_engine(connection_string, connect_args={'sslmode':'require'})\n",
    "# чтобы выполнить SQL-запрос, используем Pandas\n",
    "con=engine.connect()"
   ]
  },
  {
   "cell_type": "markdown",
   "metadata": {},
   "source": [
    "## Исследуем таблицы"
   ]
  },
  {
   "cell_type": "code",
   "execution_count": 3,
   "metadata": {
    "scrolled": true
   },
   "outputs": [],
   "source": [
    "query = '''SELECT * FROM books'''\n",
    "books = pd.io.sql.read_sql(sql=text(query), con = con)\n",
    "query = '''SELECT * FROM authors'''\n",
    "authors = pd.io.sql.read_sql(sql=text(query), con = con)\n",
    "query = '''SELECT * FROM publishers'''\n",
    "publishers = pd.io.sql.read_sql(sql=text(query), con = con)\n",
    "query = '''SELECT * FROM ratings'''\n",
    "ratings = pd.io.sql.read_sql(sql=text(query), con = con)\n",
    "query = '''SELECT * FROM reviews'''\n",
    "reviews = pd.io.sql.read_sql(sql=text(query), con = con)"
   ]
  },
  {
   "cell_type": "code",
   "execution_count": 4,
   "metadata": {
    "scrolled": true
   },
   "outputs": [
    {
     "name": "stdout",
     "output_type": "stream",
     "text": [
      "Название датафрейма: books, наличие дубликатов: 0 %.\n"
     ]
    },
    {
     "data": {
      "text/html": [
       "<div>\n",
       "<style scoped>\n",
       "    .dataframe tbody tr th:only-of-type {\n",
       "        vertical-align: middle;\n",
       "    }\n",
       "\n",
       "    .dataframe tbody tr th {\n",
       "        vertical-align: top;\n",
       "    }\n",
       "\n",
       "    .dataframe thead th {\n",
       "        text-align: right;\n",
       "    }\n",
       "</style>\n",
       "<table border=\"1\" class=\"dataframe\">\n",
       "  <thead>\n",
       "    <tr style=\"text-align: right;\">\n",
       "      <th></th>\n",
       "      <th>book_id</th>\n",
       "      <th>author_id</th>\n",
       "      <th>title</th>\n",
       "      <th>num_pages</th>\n",
       "      <th>publication_date</th>\n",
       "      <th>publisher_id</th>\n",
       "    </tr>\n",
       "  </thead>\n",
       "  <tbody>\n",
       "    <tr>\n",
       "      <th>0</th>\n",
       "      <td>1</td>\n",
       "      <td>546</td>\n",
       "      <td>'Salem's Lot</td>\n",
       "      <td>594</td>\n",
       "      <td>2005-11-01</td>\n",
       "      <td>93</td>\n",
       "    </tr>\n",
       "    <tr>\n",
       "      <th>1</th>\n",
       "      <td>2</td>\n",
       "      <td>465</td>\n",
       "      <td>1 000 Places to See Before You Die</td>\n",
       "      <td>992</td>\n",
       "      <td>2003-05-22</td>\n",
       "      <td>336</td>\n",
       "    </tr>\n",
       "    <tr>\n",
       "      <th>2</th>\n",
       "      <td>3</td>\n",
       "      <td>407</td>\n",
       "      <td>13 Little Blue Envelopes (Little Blue Envelope...</td>\n",
       "      <td>322</td>\n",
       "      <td>2010-12-21</td>\n",
       "      <td>135</td>\n",
       "    </tr>\n",
       "    <tr>\n",
       "      <th>3</th>\n",
       "      <td>4</td>\n",
       "      <td>82</td>\n",
       "      <td>1491: New Revelations of the Americas Before C...</td>\n",
       "      <td>541</td>\n",
       "      <td>2006-10-10</td>\n",
       "      <td>309</td>\n",
       "    </tr>\n",
       "    <tr>\n",
       "      <th>4</th>\n",
       "      <td>5</td>\n",
       "      <td>125</td>\n",
       "      <td>1776</td>\n",
       "      <td>386</td>\n",
       "      <td>2006-07-04</td>\n",
       "      <td>268</td>\n",
       "    </tr>\n",
       "  </tbody>\n",
       "</table>\n",
       "</div>"
      ],
      "text/plain": [
       "   book_id  author_id                                              title  \\\n",
       "0        1        546                                       'Salem's Lot   \n",
       "1        2        465                 1 000 Places to See Before You Die   \n",
       "2        3        407  13 Little Blue Envelopes (Little Blue Envelope...   \n",
       "3        4         82  1491: New Revelations of the Americas Before C...   \n",
       "4        5        125                                               1776   \n",
       "\n",
       "   num_pages publication_date  publisher_id  \n",
       "0        594       2005-11-01            93  \n",
       "1        992       2003-05-22           336  \n",
       "2        322       2010-12-21           135  \n",
       "3        541       2006-10-10           309  \n",
       "4        386       2006-07-04           268  "
      ]
     },
     "metadata": {},
     "output_type": "display_data"
    },
    {
     "name": "stdout",
     "output_type": "stream",
     "text": [
      "<class 'pandas.core.frame.DataFrame'>\n",
      "RangeIndex: 1000 entries, 0 to 999\n",
      "Data columns (total 6 columns):\n",
      " #   Column            Non-Null Count  Dtype \n",
      "---  ------            --------------  ----- \n",
      " 0   book_id           1000 non-null   int64 \n",
      " 1   author_id         1000 non-null   int64 \n",
      " 2   title             1000 non-null   object\n",
      " 3   num_pages         1000 non-null   int64 \n",
      " 4   publication_date  1000 non-null   object\n",
      " 5   publisher_id      1000 non-null   int64 \n",
      "dtypes: int64(4), object(2)\n",
      "memory usage: 47.0+ KB\n"
     ]
    },
    {
     "data": {
      "text/plain": [
       "None"
      ]
     },
     "metadata": {},
     "output_type": "display_data"
    },
    {
     "name": "stdout",
     "output_type": "stream",
     "text": [
      "Название датафрейма: authors, наличие дубликатов: 0 %.\n"
     ]
    },
    {
     "data": {
      "text/html": [
       "<div>\n",
       "<style scoped>\n",
       "    .dataframe tbody tr th:only-of-type {\n",
       "        vertical-align: middle;\n",
       "    }\n",
       "\n",
       "    .dataframe tbody tr th {\n",
       "        vertical-align: top;\n",
       "    }\n",
       "\n",
       "    .dataframe thead th {\n",
       "        text-align: right;\n",
       "    }\n",
       "</style>\n",
       "<table border=\"1\" class=\"dataframe\">\n",
       "  <thead>\n",
       "    <tr style=\"text-align: right;\">\n",
       "      <th></th>\n",
       "      <th>author_id</th>\n",
       "      <th>author</th>\n",
       "    </tr>\n",
       "  </thead>\n",
       "  <tbody>\n",
       "    <tr>\n",
       "      <th>0</th>\n",
       "      <td>1</td>\n",
       "      <td>A.S. Byatt</td>\n",
       "    </tr>\n",
       "    <tr>\n",
       "      <th>1</th>\n",
       "      <td>2</td>\n",
       "      <td>Aesop/Laura Harris/Laura Gibbs</td>\n",
       "    </tr>\n",
       "    <tr>\n",
       "      <th>2</th>\n",
       "      <td>3</td>\n",
       "      <td>Agatha Christie</td>\n",
       "    </tr>\n",
       "    <tr>\n",
       "      <th>3</th>\n",
       "      <td>4</td>\n",
       "      <td>Alan Brennert</td>\n",
       "    </tr>\n",
       "    <tr>\n",
       "      <th>4</th>\n",
       "      <td>5</td>\n",
       "      <td>Alan Moore/David   Lloyd</td>\n",
       "    </tr>\n",
       "  </tbody>\n",
       "</table>\n",
       "</div>"
      ],
      "text/plain": [
       "   author_id                          author\n",
       "0          1                      A.S. Byatt\n",
       "1          2  Aesop/Laura Harris/Laura Gibbs\n",
       "2          3                 Agatha Christie\n",
       "3          4                   Alan Brennert\n",
       "4          5        Alan Moore/David   Lloyd"
      ]
     },
     "metadata": {},
     "output_type": "display_data"
    },
    {
     "name": "stdout",
     "output_type": "stream",
     "text": [
      "<class 'pandas.core.frame.DataFrame'>\n",
      "RangeIndex: 636 entries, 0 to 635\n",
      "Data columns (total 2 columns):\n",
      " #   Column     Non-Null Count  Dtype \n",
      "---  ------     --------------  ----- \n",
      " 0   author_id  636 non-null    int64 \n",
      " 1   author     636 non-null    object\n",
      "dtypes: int64(1), object(1)\n",
      "memory usage: 10.1+ KB\n"
     ]
    },
    {
     "data": {
      "text/plain": [
       "None"
      ]
     },
     "metadata": {},
     "output_type": "display_data"
    },
    {
     "name": "stdout",
     "output_type": "stream",
     "text": [
      "Название датафрейма: publishers, наличие дубликатов: 0 %.\n"
     ]
    },
    {
     "data": {
      "text/html": [
       "<div>\n",
       "<style scoped>\n",
       "    .dataframe tbody tr th:only-of-type {\n",
       "        vertical-align: middle;\n",
       "    }\n",
       "\n",
       "    .dataframe tbody tr th {\n",
       "        vertical-align: top;\n",
       "    }\n",
       "\n",
       "    .dataframe thead th {\n",
       "        text-align: right;\n",
       "    }\n",
       "</style>\n",
       "<table border=\"1\" class=\"dataframe\">\n",
       "  <thead>\n",
       "    <tr style=\"text-align: right;\">\n",
       "      <th></th>\n",
       "      <th>publisher_id</th>\n",
       "      <th>publisher</th>\n",
       "    </tr>\n",
       "  </thead>\n",
       "  <tbody>\n",
       "    <tr>\n",
       "      <th>0</th>\n",
       "      <td>1</td>\n",
       "      <td>Ace</td>\n",
       "    </tr>\n",
       "    <tr>\n",
       "      <th>1</th>\n",
       "      <td>2</td>\n",
       "      <td>Ace Book</td>\n",
       "    </tr>\n",
       "    <tr>\n",
       "      <th>2</th>\n",
       "      <td>3</td>\n",
       "      <td>Ace Books</td>\n",
       "    </tr>\n",
       "    <tr>\n",
       "      <th>3</th>\n",
       "      <td>4</td>\n",
       "      <td>Ace Hardcover</td>\n",
       "    </tr>\n",
       "    <tr>\n",
       "      <th>4</th>\n",
       "      <td>5</td>\n",
       "      <td>Addison Wesley Publishing Company</td>\n",
       "    </tr>\n",
       "  </tbody>\n",
       "</table>\n",
       "</div>"
      ],
      "text/plain": [
       "   publisher_id                          publisher\n",
       "0             1                                Ace\n",
       "1             2                           Ace Book\n",
       "2             3                          Ace Books\n",
       "3             4                      Ace Hardcover\n",
       "4             5  Addison Wesley Publishing Company"
      ]
     },
     "metadata": {},
     "output_type": "display_data"
    },
    {
     "name": "stdout",
     "output_type": "stream",
     "text": [
      "<class 'pandas.core.frame.DataFrame'>\n",
      "RangeIndex: 340 entries, 0 to 339\n",
      "Data columns (total 2 columns):\n",
      " #   Column        Non-Null Count  Dtype \n",
      "---  ------        --------------  ----- \n",
      " 0   publisher_id  340 non-null    int64 \n",
      " 1   publisher     340 non-null    object\n",
      "dtypes: int64(1), object(1)\n",
      "memory usage: 5.4+ KB\n"
     ]
    },
    {
     "data": {
      "text/plain": [
       "None"
      ]
     },
     "metadata": {},
     "output_type": "display_data"
    },
    {
     "name": "stdout",
     "output_type": "stream",
     "text": [
      "Название датафрейма: ratings, наличие дубликатов: 0 %.\n"
     ]
    },
    {
     "data": {
      "text/html": [
       "<div>\n",
       "<style scoped>\n",
       "    .dataframe tbody tr th:only-of-type {\n",
       "        vertical-align: middle;\n",
       "    }\n",
       "\n",
       "    .dataframe tbody tr th {\n",
       "        vertical-align: top;\n",
       "    }\n",
       "\n",
       "    .dataframe thead th {\n",
       "        text-align: right;\n",
       "    }\n",
       "</style>\n",
       "<table border=\"1\" class=\"dataframe\">\n",
       "  <thead>\n",
       "    <tr style=\"text-align: right;\">\n",
       "      <th></th>\n",
       "      <th>rating_id</th>\n",
       "      <th>book_id</th>\n",
       "      <th>username</th>\n",
       "      <th>rating</th>\n",
       "    </tr>\n",
       "  </thead>\n",
       "  <tbody>\n",
       "    <tr>\n",
       "      <th>0</th>\n",
       "      <td>1</td>\n",
       "      <td>1</td>\n",
       "      <td>ryanfranco</td>\n",
       "      <td>4</td>\n",
       "    </tr>\n",
       "    <tr>\n",
       "      <th>1</th>\n",
       "      <td>2</td>\n",
       "      <td>1</td>\n",
       "      <td>grantpatricia</td>\n",
       "      <td>2</td>\n",
       "    </tr>\n",
       "    <tr>\n",
       "      <th>2</th>\n",
       "      <td>3</td>\n",
       "      <td>1</td>\n",
       "      <td>brandtandrea</td>\n",
       "      <td>5</td>\n",
       "    </tr>\n",
       "    <tr>\n",
       "      <th>3</th>\n",
       "      <td>4</td>\n",
       "      <td>2</td>\n",
       "      <td>lorichen</td>\n",
       "      <td>3</td>\n",
       "    </tr>\n",
       "    <tr>\n",
       "      <th>4</th>\n",
       "      <td>5</td>\n",
       "      <td>2</td>\n",
       "      <td>mariokeller</td>\n",
       "      <td>2</td>\n",
       "    </tr>\n",
       "  </tbody>\n",
       "</table>\n",
       "</div>"
      ],
      "text/plain": [
       "   rating_id  book_id       username  rating\n",
       "0          1        1     ryanfranco       4\n",
       "1          2        1  grantpatricia       2\n",
       "2          3        1   brandtandrea       5\n",
       "3          4        2       lorichen       3\n",
       "4          5        2    mariokeller       2"
      ]
     },
     "metadata": {},
     "output_type": "display_data"
    },
    {
     "name": "stdout",
     "output_type": "stream",
     "text": [
      "<class 'pandas.core.frame.DataFrame'>\n",
      "RangeIndex: 6456 entries, 0 to 6455\n",
      "Data columns (total 4 columns):\n",
      " #   Column     Non-Null Count  Dtype \n",
      "---  ------     --------------  ----- \n",
      " 0   rating_id  6456 non-null   int64 \n",
      " 1   book_id    6456 non-null   int64 \n",
      " 2   username   6456 non-null   object\n",
      " 3   rating     6456 non-null   int64 \n",
      "dtypes: int64(3), object(1)\n",
      "memory usage: 201.9+ KB\n"
     ]
    },
    {
     "data": {
      "text/plain": [
       "None"
      ]
     },
     "metadata": {},
     "output_type": "display_data"
    },
    {
     "name": "stdout",
     "output_type": "stream",
     "text": [
      "Название датафрейма: reviews, наличие дубликатов: 0 %.\n"
     ]
    },
    {
     "data": {
      "text/html": [
       "<div>\n",
       "<style scoped>\n",
       "    .dataframe tbody tr th:only-of-type {\n",
       "        vertical-align: middle;\n",
       "    }\n",
       "\n",
       "    .dataframe tbody tr th {\n",
       "        vertical-align: top;\n",
       "    }\n",
       "\n",
       "    .dataframe thead th {\n",
       "        text-align: right;\n",
       "    }\n",
       "</style>\n",
       "<table border=\"1\" class=\"dataframe\">\n",
       "  <thead>\n",
       "    <tr style=\"text-align: right;\">\n",
       "      <th></th>\n",
       "      <th>review_id</th>\n",
       "      <th>book_id</th>\n",
       "      <th>username</th>\n",
       "      <th>text</th>\n",
       "    </tr>\n",
       "  </thead>\n",
       "  <tbody>\n",
       "    <tr>\n",
       "      <th>0</th>\n",
       "      <td>1</td>\n",
       "      <td>1</td>\n",
       "      <td>brandtandrea</td>\n",
       "      <td>Mention society tell send professor analysis. ...</td>\n",
       "    </tr>\n",
       "    <tr>\n",
       "      <th>1</th>\n",
       "      <td>2</td>\n",
       "      <td>1</td>\n",
       "      <td>ryanfranco</td>\n",
       "      <td>Foot glass pretty audience hit themselves. Amo...</td>\n",
       "    </tr>\n",
       "    <tr>\n",
       "      <th>2</th>\n",
       "      <td>3</td>\n",
       "      <td>2</td>\n",
       "      <td>lorichen</td>\n",
       "      <td>Listen treat keep worry. Miss husband tax but ...</td>\n",
       "    </tr>\n",
       "    <tr>\n",
       "      <th>3</th>\n",
       "      <td>4</td>\n",
       "      <td>3</td>\n",
       "      <td>johnsonamanda</td>\n",
       "      <td>Finally month interesting blue could nature cu...</td>\n",
       "    </tr>\n",
       "    <tr>\n",
       "      <th>4</th>\n",
       "      <td>5</td>\n",
       "      <td>3</td>\n",
       "      <td>scotttamara</td>\n",
       "      <td>Nation purpose heavy give wait song will. List...</td>\n",
       "    </tr>\n",
       "  </tbody>\n",
       "</table>\n",
       "</div>"
      ],
      "text/plain": [
       "   review_id  book_id       username  \\\n",
       "0          1        1   brandtandrea   \n",
       "1          2        1     ryanfranco   \n",
       "2          3        2       lorichen   \n",
       "3          4        3  johnsonamanda   \n",
       "4          5        3    scotttamara   \n",
       "\n",
       "                                                text  \n",
       "0  Mention society tell send professor analysis. ...  \n",
       "1  Foot glass pretty audience hit themselves. Amo...  \n",
       "2  Listen treat keep worry. Miss husband tax but ...  \n",
       "3  Finally month interesting blue could nature cu...  \n",
       "4  Nation purpose heavy give wait song will. List...  "
      ]
     },
     "metadata": {},
     "output_type": "display_data"
    },
    {
     "name": "stdout",
     "output_type": "stream",
     "text": [
      "<class 'pandas.core.frame.DataFrame'>\n",
      "RangeIndex: 2793 entries, 0 to 2792\n",
      "Data columns (total 4 columns):\n",
      " #   Column     Non-Null Count  Dtype \n",
      "---  ------     --------------  ----- \n",
      " 0   review_id  2793 non-null   int64 \n",
      " 1   book_id    2793 non-null   int64 \n",
      " 2   username   2793 non-null   object\n",
      " 3   text       2793 non-null   object\n",
      "dtypes: int64(2), object(2)\n",
      "memory usage: 87.4+ KB\n"
     ]
    },
    {
     "data": {
      "text/plain": [
       "None"
      ]
     },
     "metadata": {},
     "output_type": "display_data"
    }
   ],
   "source": [
    "dataframes = {\n",
    "    'books': books,\n",
    "    'authors': authors,\n",
    "    'publishers': publishers,\n",
    "    'ratings': ratings,\n",
    "    'reviews': reviews,\n",
    "}\n",
    "for name, df in dataframes.items():\n",
    "    print(f'Название датафрейма: {name}, наличие дубликатов: {round(df.duplicated().mean()*100)} %.')\n",
    "    display(df.head())\n",
    "    display(df.info())  "
   ]
  },
  {
   "cell_type": "markdown",
   "metadata": {},
   "source": [
    "В нашем распоряжении 5 таблиц с информацией о книгах, издательствах, авторах, а также пользовательские обзоры книг. Просмотрев общую информацию о данных по каждой таблице, проблем мы не обнаружили. Дубликатов и пропущенных значений нет."
   ]
  },
  {
   "cell_type": "markdown",
   "metadata": {},
   "source": [
    "## Задания"
   ]
  },
  {
   "cell_type": "markdown",
   "metadata": {},
   "source": [
    "### Посчитайте, сколько книг вышло после 1 января 2000 года;"
   ]
  },
  {
   "cell_type": "code",
   "execution_count": 5,
   "metadata": {
    "scrolled": false
   },
   "outputs": [
    {
     "data": {
      "text/html": [
       "<div>\n",
       "<style scoped>\n",
       "    .dataframe tbody tr th:only-of-type {\n",
       "        vertical-align: middle;\n",
       "    }\n",
       "\n",
       "    .dataframe tbody tr th {\n",
       "        vertical-align: top;\n",
       "    }\n",
       "\n",
       "    .dataframe thead th {\n",
       "        text-align: right;\n",
       "    }\n",
       "</style>\n",
       "<table border=\"1\" class=\"dataframe\">\n",
       "  <thead>\n",
       "    <tr style=\"text-align: right;\">\n",
       "      <th></th>\n",
       "      <th>count</th>\n",
       "    </tr>\n",
       "  </thead>\n",
       "  <tbody>\n",
       "    <tr>\n",
       "      <th>0</th>\n",
       "      <td>821</td>\n",
       "    </tr>\n",
       "  </tbody>\n",
       "</table>\n",
       "</div>"
      ],
      "text/plain": [
       "   count\n",
       "0    821"
      ]
     },
     "execution_count": 5,
     "metadata": {},
     "output_type": "execute_result"
    }
   ],
   "source": [
    "query = '''SELECT COUNT(book_id)\n",
    "           FROM books\n",
    "           WHERE EXTRACT(YEAR FROM CAST(publication_date AS timestamp)) >= 2000'''\n",
    "books_count = pd.io.sql.read_sql(sql=text(query), con = con)\n",
    "books_count"
   ]
  },
  {
   "cell_type": "markdown",
   "metadata": {},
   "source": [
    "После 1 января 2000 года вышла 821 книга."
   ]
  },
  {
   "cell_type": "markdown",
   "metadata": {},
   "source": [
    "### Для каждой книги посчитайте количество обзоров и среднюю оценку;\n"
   ]
  },
  {
   "cell_type": "code",
   "execution_count": 6,
   "metadata": {},
   "outputs": [
    {
     "data": {
      "text/html": [
       "<div>\n",
       "<style scoped>\n",
       "    .dataframe tbody tr th:only-of-type {\n",
       "        vertical-align: middle;\n",
       "    }\n",
       "\n",
       "    .dataframe tbody tr th {\n",
       "        vertical-align: top;\n",
       "    }\n",
       "\n",
       "    .dataframe thead th {\n",
       "        text-align: right;\n",
       "    }\n",
       "</style>\n",
       "<table border=\"1\" class=\"dataframe\">\n",
       "  <thead>\n",
       "    <tr style=\"text-align: right;\">\n",
       "      <th></th>\n",
       "      <th>book_id</th>\n",
       "      <th>rating_avg</th>\n",
       "      <th>reviews_cnt</th>\n",
       "    </tr>\n",
       "  </thead>\n",
       "  <tbody>\n",
       "    <tr>\n",
       "      <th>0</th>\n",
       "      <td>1</td>\n",
       "      <td>3.7</td>\n",
       "      <td>6</td>\n",
       "    </tr>\n",
       "    <tr>\n",
       "      <th>1</th>\n",
       "      <td>2</td>\n",
       "      <td>2.5</td>\n",
       "      <td>2</td>\n",
       "    </tr>\n",
       "    <tr>\n",
       "      <th>2</th>\n",
       "      <td>3</td>\n",
       "      <td>4.7</td>\n",
       "      <td>9</td>\n",
       "    </tr>\n",
       "    <tr>\n",
       "      <th>3</th>\n",
       "      <td>4</td>\n",
       "      <td>4.5</td>\n",
       "      <td>4</td>\n",
       "    </tr>\n",
       "    <tr>\n",
       "      <th>4</th>\n",
       "      <td>5</td>\n",
       "      <td>4.0</td>\n",
       "      <td>24</td>\n",
       "    </tr>\n",
       "    <tr>\n",
       "      <th>...</th>\n",
       "      <td>...</td>\n",
       "      <td>...</td>\n",
       "      <td>...</td>\n",
       "    </tr>\n",
       "    <tr>\n",
       "      <th>995</th>\n",
       "      <td>996</td>\n",
       "      <td>3.7</td>\n",
       "      <td>9</td>\n",
       "    </tr>\n",
       "    <tr>\n",
       "      <th>996</th>\n",
       "      <td>997</td>\n",
       "      <td>3.4</td>\n",
       "      <td>15</td>\n",
       "    </tr>\n",
       "    <tr>\n",
       "      <th>997</th>\n",
       "      <td>998</td>\n",
       "      <td>3.2</td>\n",
       "      <td>20</td>\n",
       "    </tr>\n",
       "    <tr>\n",
       "      <th>998</th>\n",
       "      <td>999</td>\n",
       "      <td>4.5</td>\n",
       "      <td>4</td>\n",
       "    </tr>\n",
       "    <tr>\n",
       "      <th>999</th>\n",
       "      <td>1000</td>\n",
       "      <td>3.8</td>\n",
       "      <td>24</td>\n",
       "    </tr>\n",
       "  </tbody>\n",
       "</table>\n",
       "<p>1000 rows × 3 columns</p>\n",
       "</div>"
      ],
      "text/plain": [
       "     book_id  rating_avg  reviews_cnt\n",
       "0          1         3.7            6\n",
       "1          2         2.5            2\n",
       "2          3         4.7            9\n",
       "3          4         4.5            4\n",
       "4          5         4.0           24\n",
       "..       ...         ...          ...\n",
       "995      996         3.7            9\n",
       "996      997         3.4           15\n",
       "997      998         3.2           20\n",
       "998      999         4.5            4\n",
       "999     1000         3.8           24\n",
       "\n",
       "[1000 rows x 3 columns]"
      ]
     },
     "execution_count": 6,
     "metadata": {},
     "output_type": "execute_result"
    }
   ],
   "source": [
    "query = '''SELECT b.book_id, ROUND(AVG(rating), 1) AS rating_avg, COUNT(review_id) AS reviews_cnt\n",
    "           FROM books b\n",
    "           LEFT JOIN ratings rt ON b.book_id=rt.book_id\n",
    "           LEFT JOIN reviews rv ON b.book_id=rv.book_id\n",
    "           GROUP BY b.book_id\n",
    "           ORDER BY book_id\n",
    "        '''\n",
    "books_ratings_and_reviews = pd.io.sql.read_sql(sql=text(query), con = con)\n",
    "books_ratings_and_reviews"
   ]
  },
  {
   "cell_type": "markdown",
   "metadata": {},
   "source": [
    "Составили список книг с информацией о количестве обзоров и средней оценкой для каждой из них."
   ]
  },
  {
   "cell_type": "markdown",
   "metadata": {},
   "source": [
    "### Определите издательство, которое выпустило наибольшее число книг толще 50 страниц — так вы исключите из анализа брошюры;"
   ]
  },
  {
   "cell_type": "code",
   "execution_count": 7,
   "metadata": {
    "scrolled": true
   },
   "outputs": [
    {
     "data": {
      "text/html": [
       "<div>\n",
       "<style scoped>\n",
       "    .dataframe tbody tr th:only-of-type {\n",
       "        vertical-align: middle;\n",
       "    }\n",
       "\n",
       "    .dataframe tbody tr th {\n",
       "        vertical-align: top;\n",
       "    }\n",
       "\n",
       "    .dataframe thead th {\n",
       "        text-align: right;\n",
       "    }\n",
       "</style>\n",
       "<table border=\"1\" class=\"dataframe\">\n",
       "  <thead>\n",
       "    <tr style=\"text-align: right;\">\n",
       "      <th></th>\n",
       "      <th>publisher</th>\n",
       "      <th>book_cnt</th>\n",
       "    </tr>\n",
       "  </thead>\n",
       "  <tbody>\n",
       "    <tr>\n",
       "      <th>0</th>\n",
       "      <td>Penguin Books</td>\n",
       "      <td>42</td>\n",
       "    </tr>\n",
       "  </tbody>\n",
       "</table>\n",
       "</div>"
      ],
      "text/plain": [
       "       publisher  book_cnt\n",
       "0  Penguin Books        42"
      ]
     },
     "execution_count": 7,
     "metadata": {},
     "output_type": "execute_result"
    }
   ],
   "source": [
    "query = '''SELECT publisher, book_cnt   \n",
    "           FROM publishers p\n",
    "           INNER JOIN (SELECT publisher_id, COUNT(book_id) AS book_cnt\n",
    "                       FROM books\n",
    "                       WHERE num_pages > 50\n",
    "                       GROUP BY publisher_id\n",
    "                       ORDER BY book_cnt DESC\n",
    "                       LIMIT 1) top_p ON p.publisher_id=top_p.publisher_id'''\n",
    "publisher = pd.io.sql.read_sql(sql=text(query), con = con)\n",
    "publisher"
   ]
  },
  {
   "cell_type": "markdown",
   "metadata": {},
   "source": [
    "Издательство \"Penguin Books\" выпустило наибольшее число книг толще 50 страниц. Их количество составило 42 экзепляра."
   ]
  },
  {
   "cell_type": "markdown",
   "metadata": {},
   "source": [
    "### Определите автора с самой высокой средней оценкой книг — учитывайте только книги с 50 и более оценками;"
   ]
  },
  {
   "cell_type": "code",
   "execution_count": 8,
   "metadata": {},
   "outputs": [
    {
     "data": {
      "text/html": [
       "<div>\n",
       "<style scoped>\n",
       "    .dataframe tbody tr th:only-of-type {\n",
       "        vertical-align: middle;\n",
       "    }\n",
       "\n",
       "    .dataframe tbody tr th {\n",
       "        vertical-align: top;\n",
       "    }\n",
       "\n",
       "    .dataframe thead th {\n",
       "        text-align: right;\n",
       "    }\n",
       "</style>\n",
       "<table border=\"1\" class=\"dataframe\">\n",
       "  <thead>\n",
       "    <tr style=\"text-align: right;\">\n",
       "      <th></th>\n",
       "      <th>author</th>\n",
       "      <th>rating_avg</th>\n",
       "    </tr>\n",
       "  </thead>\n",
       "  <tbody>\n",
       "    <tr>\n",
       "      <th>0</th>\n",
       "      <td>J.K. Rowling/Mary GrandPré</td>\n",
       "      <td>4.3</td>\n",
       "    </tr>\n",
       "  </tbody>\n",
       "</table>\n",
       "</div>"
      ],
      "text/plain": [
       "                       author  rating_avg\n",
       "0  J.K. Rowling/Mary GrandPré         4.3"
      ]
     },
     "execution_count": 8,
     "metadata": {},
     "output_type": "execute_result"
    }
   ],
   "source": [
    "query = '''WITH\n",
    "           a AS (SELECT book_id, rating\n",
    "                 FROM ratings\n",
    "                 WHERE book_id IN (SELECT book_id\n",
    "                                   FROM (SELECT book_id, COUNT(rating)\n",
    "                                         FROM ratings\n",
    "                                         GROUP BY book_id\n",
    "                                         HAVING COUNT(rating) >= 50) r)),\n",
    "            c AS (SELECT author_id, AVG(rating) AS rating_avg\n",
    "                  FROM books b\n",
    "                  JOIN a ON b.book_id=a.book_id\n",
    "                  GROUP BY author_id\n",
    "                  ORDER BY AVG(rating) DESC\n",
    "                  LIMIT 1)\n",
    "            SELECT author, ROUND(rating_avg, 1) AS rating_avg\n",
    "            FROM authors s\n",
    "            JOIN c ON s.author_id=c.author_id\n",
    "           '''\n",
    "top_author= pd.io.sql.read_sql(sql=text(query), con = con)\n",
    "top_author"
   ]
  },
  {
   "cell_type": "markdown",
   "metadata": {},
   "source": [
    "J.K. Rowling/Mary GrandPré - автор с самой высокой средней оценкой книг (с 50 и более оценками). Средний рейтинг: 4,3."
   ]
  },
  {
   "cell_type": "markdown",
   "metadata": {},
   "source": [
    "### Посчитайте среднее количество обзоров от пользователей, которые поставили больше 48 оценок."
   ]
  },
  {
   "cell_type": "code",
   "execution_count": 9,
   "metadata": {
    "scrolled": false
   },
   "outputs": [
    {
     "data": {
      "text/html": [
       "<div>\n",
       "<style scoped>\n",
       "    .dataframe tbody tr th:only-of-type {\n",
       "        vertical-align: middle;\n",
       "    }\n",
       "\n",
       "    .dataframe tbody tr th {\n",
       "        vertical-align: top;\n",
       "    }\n",
       "\n",
       "    .dataframe thead th {\n",
       "        text-align: right;\n",
       "    }\n",
       "</style>\n",
       "<table border=\"1\" class=\"dataframe\">\n",
       "  <thead>\n",
       "    <tr style=\"text-align: right;\">\n",
       "      <th></th>\n",
       "      <th>avg</th>\n",
       "    </tr>\n",
       "  </thead>\n",
       "  <tbody>\n",
       "    <tr>\n",
       "      <th>0</th>\n",
       "      <td>24.0</td>\n",
       "    </tr>\n",
       "  </tbody>\n",
       "</table>\n",
       "</div>"
      ],
      "text/plain": [
       "    avg\n",
       "0  24.0"
      ]
     },
     "execution_count": 9,
     "metadata": {},
     "output_type": "execute_result"
    }
   ],
   "source": [
    "query = '''SELECT AVG(review_id_cnt)\n",
    "           FROM (SELECT username, COUNT(review_id) AS review_id_cnt\n",
    "                 FROM reviews\n",
    "                 WHERE username IN (SELECT username\n",
    "                                    FROM (SELECT username, COUNT(rating_id) \n",
    "                                          FROM ratings\n",
    "                                          GROUP BY username\n",
    "                                          HAVING COUNT(rating_id) > 48) r)\n",
    "                                    GROUP BY username) v'''\n",
    "publisher = pd.io.sql.read_sql(sql=text(query), con = con)\n",
    "publisher"
   ]
  },
  {
   "cell_type": "markdown",
   "metadata": {},
   "source": [
    "Cреднее количество обзоров от пользователей, которые поставили больше 48 оценок - 24."
   ]
  },
  {
   "cell_type": "markdown",
   "metadata": {},
   "source": [
    "## Вывод"
   ]
  },
  {
   "cell_type": "markdown",
   "metadata": {},
   "source": [
    "Изучив базу данных, мы выяснили следующее:\n",
    "- после 1 января 2000 года было выпущено 821 книга,\n",
    "- количество обзоров и средний рейтинг для каждой книги,\n",
    "- \"Penguin Books\" оказалось самым продуктивным издательством, выпустившим наибольшее число книг толще 50 страниц,\n",
    "- писательница J.K. Rowling/Mary GrandPré имеет самую высокую среднюю оценку книг с 50 и более оценками,\n",
    "- пользователи, которые оставили более 48 оценок книгам, в среднем пишут 24 обзора."
   ]
  }
 ],
 "metadata": {
  "ExecuteTimeLog": [
   {
    "duration": 10471,
    "start_time": "2024-04-08T06:07:08.420Z"
   },
   {
    "duration": 3,
    "start_time": "2024-04-08T06:08:31.973Z"
   },
   {
    "duration": 16,
    "start_time": "2024-04-08T06:09:26.728Z"
   },
   {
    "duration": 99,
    "start_time": "2024-04-08T08:06:31.539Z"
   },
   {
    "duration": 10306,
    "start_time": "2024-04-08T08:06:31.640Z"
   },
   {
    "duration": 15,
    "start_time": "2024-04-08T08:06:41.947Z"
   },
   {
    "duration": 51,
    "start_time": "2024-04-08T08:18:59.010Z"
   },
   {
    "duration": 4,
    "start_time": "2024-04-08T08:20:33.658Z"
   },
   {
    "duration": 49,
    "start_time": "2024-04-08T08:20:40.889Z"
   },
   {
    "duration": 13,
    "start_time": "2024-04-08T08:25:09.565Z"
   },
   {
    "duration": 4,
    "start_time": "2024-04-08T08:27:26.965Z"
   },
   {
    "duration": 40,
    "start_time": "2024-04-08T08:27:50.824Z"
   },
   {
    "duration": 13,
    "start_time": "2024-04-08T08:27:51.968Z"
   },
   {
    "duration": 12,
    "start_time": "2024-04-08T08:27:56.037Z"
   },
   {
    "duration": 13,
    "start_time": "2024-04-08T08:34:56.206Z"
   },
   {
    "duration": 6,
    "start_time": "2024-04-08T08:35:17.662Z"
   },
   {
    "duration": 12,
    "start_time": "2024-04-08T08:35:23.409Z"
   },
   {
    "duration": 12,
    "start_time": "2024-04-08T08:35:26.347Z"
   },
   {
    "duration": 13,
    "start_time": "2024-04-08T08:38:51.224Z"
   },
   {
    "duration": 18,
    "start_time": "2024-04-08T08:39:08.279Z"
   },
   {
    "duration": 12,
    "start_time": "2024-04-08T08:39:09.003Z"
   },
   {
    "duration": 12,
    "start_time": "2024-04-08T08:39:21.845Z"
   },
   {
    "duration": 19,
    "start_time": "2024-04-08T08:39:23.477Z"
   },
   {
    "duration": 9,
    "start_time": "2024-04-08T08:43:58.230Z"
   },
   {
    "duration": 11,
    "start_time": "2024-04-08T08:50:08.102Z"
   },
   {
    "duration": 79,
    "start_time": "2024-04-08T08:50:55.026Z"
   },
   {
    "duration": 90,
    "start_time": "2024-04-08T08:51:21.379Z"
   },
   {
    "duration": 9,
    "start_time": "2024-04-08T08:52:07.073Z"
   },
   {
    "duration": 9,
    "start_time": "2024-04-08T08:52:22.419Z"
   },
   {
    "duration": 30,
    "start_time": "2024-04-08T09:24:23.260Z"
   },
   {
    "duration": 13,
    "start_time": "2024-04-08T09:24:31.917Z"
   },
   {
    "duration": 11,
    "start_time": "2024-04-08T09:24:59.242Z"
   },
   {
    "duration": 14,
    "start_time": "2024-04-08T09:27:09.924Z"
   },
   {
    "duration": 14,
    "start_time": "2024-04-08T09:27:34.252Z"
   },
   {
    "duration": 11,
    "start_time": "2024-04-08T09:33:35.472Z"
   },
   {
    "duration": 11,
    "start_time": "2024-04-08T09:34:21.521Z"
   },
   {
    "duration": 22,
    "start_time": "2024-04-08T09:36:43.793Z"
   },
   {
    "duration": 25,
    "start_time": "2024-04-08T09:37:08.121Z"
   },
   {
    "duration": 21,
    "start_time": "2024-04-08T09:37:31.303Z"
   },
   {
    "duration": 22,
    "start_time": "2024-04-08T09:38:28.874Z"
   },
   {
    "duration": 18,
    "start_time": "2024-04-08T09:38:54.083Z"
   },
   {
    "duration": 21,
    "start_time": "2024-04-08T09:44:41.813Z"
   },
   {
    "duration": 14,
    "start_time": "2024-04-08T09:44:56.228Z"
   },
   {
    "duration": 21,
    "start_time": "2024-04-08T10:13:36.592Z"
   },
   {
    "duration": 10169,
    "start_time": "2024-04-08T14:04:18.694Z"
   },
   {
    "duration": 17,
    "start_time": "2024-04-08T14:04:28.864Z"
   },
   {
    "duration": 21,
    "start_time": "2024-04-08T14:04:28.882Z"
   },
   {
    "duration": 10,
    "start_time": "2024-04-08T14:04:28.904Z"
   },
   {
    "duration": 11,
    "start_time": "2024-04-08T14:04:28.915Z"
   },
   {
    "duration": 9,
    "start_time": "2024-04-08T14:04:28.927Z"
   },
   {
    "duration": 8,
    "start_time": "2024-04-08T14:04:28.938Z"
   },
   {
    "duration": 12,
    "start_time": "2024-04-08T14:04:28.947Z"
   },
   {
    "duration": 10,
    "start_time": "2024-04-08T14:04:28.960Z"
   },
   {
    "duration": 13,
    "start_time": "2024-04-08T14:06:12.913Z"
   },
   {
    "duration": 10,
    "start_time": "2024-04-08T14:07:31.179Z"
   },
   {
    "duration": 80,
    "start_time": "2024-04-08T14:10:14.539Z"
   },
   {
    "duration": 80,
    "start_time": "2024-04-08T14:10:44.282Z"
   },
   {
    "duration": 79,
    "start_time": "2024-04-08T14:10:54.374Z"
   },
   {
    "duration": 12,
    "start_time": "2024-04-08T14:11:24.198Z"
   },
   {
    "duration": 10,
    "start_time": "2024-04-08T14:11:54.753Z"
   },
   {
    "duration": 11,
    "start_time": "2024-04-08T14:12:01.880Z"
   },
   {
    "duration": 9,
    "start_time": "2024-04-08T14:12:09.190Z"
   },
   {
    "duration": 74,
    "start_time": "2024-04-08T14:13:53.797Z"
   },
   {
    "duration": 9,
    "start_time": "2024-04-08T14:15:29.563Z"
   },
   {
    "duration": 20,
    "start_time": "2024-04-08T14:15:43.432Z"
   },
   {
    "duration": 10,
    "start_time": "2024-04-08T14:19:50.049Z"
   },
   {
    "duration": 20,
    "start_time": "2024-04-08T14:29:57.924Z"
   },
   {
    "duration": 15,
    "start_time": "2024-04-08T14:30:05.986Z"
   },
   {
    "duration": 12,
    "start_time": "2024-04-08T14:31:03.189Z"
   },
   {
    "duration": 13,
    "start_time": "2024-04-08T14:31:23.013Z"
   },
   {
    "duration": 13,
    "start_time": "2024-04-08T14:31:30.043Z"
   },
   {
    "duration": 18,
    "start_time": "2024-04-08T14:32:00.961Z"
   },
   {
    "duration": 11,
    "start_time": "2024-04-08T14:33:38.428Z"
   },
   {
    "duration": 19,
    "start_time": "2024-04-08T14:37:28.124Z"
   },
   {
    "duration": 10,
    "start_time": "2024-04-08T14:37:48.507Z"
   },
   {
    "duration": 18,
    "start_time": "2024-04-08T14:39:41.697Z"
   },
   {
    "duration": 14,
    "start_time": "2024-04-08T14:40:14.452Z"
   },
   {
    "duration": 19,
    "start_time": "2024-04-08T14:42:04.868Z"
   },
   {
    "duration": 19,
    "start_time": "2024-04-08T14:42:14.348Z"
   },
   {
    "duration": 18,
    "start_time": "2024-04-08T14:42:48.670Z"
   },
   {
    "duration": 19,
    "start_time": "2024-04-08T14:47:15.787Z"
   },
   {
    "duration": 18,
    "start_time": "2024-04-08T14:49:28.249Z"
   },
   {
    "duration": 13,
    "start_time": "2024-04-08T15:06:18.393Z"
   },
   {
    "duration": 18,
    "start_time": "2024-04-08T15:06:54.232Z"
   },
   {
    "duration": 18,
    "start_time": "2024-04-08T15:07:05.038Z"
   },
   {
    "duration": 19,
    "start_time": "2024-04-08T15:07:20.536Z"
   },
   {
    "duration": 23,
    "start_time": "2024-04-08T16:35:28.985Z"
   },
   {
    "duration": 22,
    "start_time": "2024-04-08T16:36:14.053Z"
   },
   {
    "duration": 15,
    "start_time": "2024-04-08T16:47:27.456Z"
   },
   {
    "duration": 15,
    "start_time": "2024-04-08T16:47:59.022Z"
   },
   {
    "duration": 14,
    "start_time": "2024-04-08T16:48:52.764Z"
   },
   {
    "duration": 14,
    "start_time": "2024-04-08T16:49:02.023Z"
   },
   {
    "duration": 21,
    "start_time": "2024-04-08T16:49:57.818Z"
   },
   {
    "duration": 12,
    "start_time": "2024-04-08T16:50:11.021Z"
   },
   {
    "duration": 9,
    "start_time": "2024-04-08T16:50:54.876Z"
   },
   {
    "duration": 10,
    "start_time": "2024-04-08T16:51:10.431Z"
   },
   {
    "duration": 10,
    "start_time": "2024-04-08T16:51:45.211Z"
   },
   {
    "duration": 9,
    "start_time": "2024-04-08T16:51:45.540Z"
   },
   {
    "duration": 10,
    "start_time": "2024-04-08T16:51:46.333Z"
   },
   {
    "duration": 10,
    "start_time": "2024-04-08T16:51:46.721Z"
   },
   {
    "duration": 9,
    "start_time": "2024-04-08T16:51:49.347Z"
   },
   {
    "duration": 13,
    "start_time": "2024-04-08T16:51:51.129Z"
   },
   {
    "duration": 9,
    "start_time": "2024-04-08T16:51:55.223Z"
   },
   {
    "duration": 13,
    "start_time": "2024-04-08T16:52:48.083Z"
   },
   {
    "duration": 16,
    "start_time": "2024-04-08T16:58:02.092Z"
   },
   {
    "duration": 15,
    "start_time": "2024-04-08T16:59:31.677Z"
   },
   {
    "duration": 19,
    "start_time": "2024-04-08T17:00:47.464Z"
   },
   {
    "duration": 12,
    "start_time": "2024-04-08T17:00:58.237Z"
   },
   {
    "duration": 19,
    "start_time": "2024-04-08T17:04:14.520Z"
   },
   {
    "duration": 18,
    "start_time": "2024-04-08T17:04:28.746Z"
   },
   {
    "duration": 21,
    "start_time": "2024-04-08T17:05:05.553Z"
   },
   {
    "duration": 13,
    "start_time": "2024-04-08T17:05:50.338Z"
   },
   {
    "duration": 10550,
    "start_time": "2024-04-09T02:57:37.316Z"
   },
   {
    "duration": 20,
    "start_time": "2024-04-09T02:57:47.868Z"
   },
   {
    "duration": 9,
    "start_time": "2024-04-09T02:57:47.889Z"
   },
   {
    "duration": 9,
    "start_time": "2024-04-09T02:57:47.899Z"
   },
   {
    "duration": 20,
    "start_time": "2024-04-09T02:57:47.909Z"
   },
   {
    "duration": 11,
    "start_time": "2024-04-09T02:57:47.930Z"
   },
   {
    "duration": 16,
    "start_time": "2024-04-09T02:57:47.942Z"
   },
   {
    "duration": 13,
    "start_time": "2024-04-09T02:57:47.970Z"
   },
   {
    "duration": 11,
    "start_time": "2024-04-09T02:57:47.985Z"
   },
   {
    "duration": 11,
    "start_time": "2024-04-09T02:57:47.998Z"
   },
   {
    "duration": 12,
    "start_time": "2024-04-09T02:57:48.010Z"
   },
   {
    "duration": 16,
    "start_time": "2024-04-09T02:57:48.023Z"
   },
   {
    "duration": 12,
    "start_time": "2024-04-09T02:59:59.249Z"
   },
   {
    "duration": 85,
    "start_time": "2024-04-09T03:00:08.457Z"
   },
   {
    "duration": 13,
    "start_time": "2024-04-09T03:00:27.521Z"
   },
   {
    "duration": 15,
    "start_time": "2024-04-09T03:00:47.505Z"
   },
   {
    "duration": 11,
    "start_time": "2024-04-09T03:02:04.017Z"
   },
   {
    "duration": 10118,
    "start_time": "2024-04-09T04:52:58.592Z"
   },
   {
    "duration": 20,
    "start_time": "2024-04-09T04:53:08.712Z"
   },
   {
    "duration": 12,
    "start_time": "2024-04-09T04:53:08.734Z"
   },
   {
    "duration": 24,
    "start_time": "2024-04-09T04:53:08.748Z"
   },
   {
    "duration": 17,
    "start_time": "2024-04-09T04:53:08.774Z"
   },
   {
    "duration": 11,
    "start_time": "2024-04-09T04:53:08.792Z"
   },
   {
    "duration": 9,
    "start_time": "2024-04-09T04:53:08.804Z"
   },
   {
    "duration": 14,
    "start_time": "2024-04-09T04:53:08.815Z"
   },
   {
    "duration": 9,
    "start_time": "2024-04-09T04:53:08.830Z"
   },
   {
    "duration": 11,
    "start_time": "2024-04-09T04:53:08.841Z"
   },
   {
    "duration": 12,
    "start_time": "2024-04-09T04:53:08.869Z"
   },
   {
    "duration": 10725,
    "start_time": "2024-04-09T06:02:30.100Z"
   },
   {
    "duration": 18,
    "start_time": "2024-04-09T06:02:40.827Z"
   },
   {
    "duration": 8,
    "start_time": "2024-04-09T06:02:40.847Z"
   },
   {
    "duration": 17,
    "start_time": "2024-04-09T06:02:40.856Z"
   },
   {
    "duration": 12,
    "start_time": "2024-04-09T06:02:40.875Z"
   },
   {
    "duration": 12,
    "start_time": "2024-04-09T06:02:40.888Z"
   },
   {
    "duration": 10,
    "start_time": "2024-04-09T06:02:40.902Z"
   },
   {
    "duration": 21,
    "start_time": "2024-04-09T06:02:40.914Z"
   },
   {
    "duration": 35,
    "start_time": "2024-04-09T06:02:40.936Z"
   },
   {
    "duration": 19,
    "start_time": "2024-04-09T06:02:40.973Z"
   },
   {
    "duration": 11,
    "start_time": "2024-04-09T06:02:40.993Z"
   },
   {
    "duration": 50,
    "start_time": "2024-04-09T07:39:15.177Z"
   },
   {
    "duration": 6,
    "start_time": "2024-04-09T07:42:29.255Z"
   },
   {
    "duration": 489,
    "start_time": "2024-04-09T07:42:34.094Z"
   },
   {
    "duration": 9718,
    "start_time": "2024-04-09T07:42:34.585Z"
   },
   {
    "duration": 21,
    "start_time": "2024-04-09T07:42:44.305Z"
   },
   {
    "duration": 11,
    "start_time": "2024-04-09T07:42:44.327Z"
   },
   {
    "duration": 14,
    "start_time": "2024-04-09T07:42:44.340Z"
   },
   {
    "duration": 10,
    "start_time": "2024-04-09T07:42:44.355Z"
   },
   {
    "duration": 18,
    "start_time": "2024-04-09T07:42:44.366Z"
   },
   {
    "duration": 14,
    "start_time": "2024-04-09T07:42:44.386Z"
   },
   {
    "duration": 12,
    "start_time": "2024-04-09T07:42:44.401Z"
   },
   {
    "duration": 9,
    "start_time": "2024-04-09T07:42:44.415Z"
   },
   {
    "duration": 11,
    "start_time": "2024-04-09T07:42:44.425Z"
   },
   {
    "duration": 11,
    "start_time": "2024-04-09T07:42:44.437Z"
   },
   {
    "duration": 19,
    "start_time": "2024-04-09T07:42:54.805Z"
   },
   {
    "duration": 23,
    "start_time": "2024-04-09T07:43:20.324Z"
   },
   {
    "duration": 82,
    "start_time": "2024-04-09T07:43:48.700Z"
   },
   {
    "duration": 22,
    "start_time": "2024-04-09T07:43:58.336Z"
   },
   {
    "duration": 19,
    "start_time": "2024-04-09T07:44:05.874Z"
   },
   {
    "duration": 25,
    "start_time": "2024-04-09T07:46:48.023Z"
   },
   {
    "duration": 29,
    "start_time": "2024-04-09T07:48:11.700Z"
   },
   {
    "duration": 25,
    "start_time": "2024-04-09T07:48:32.120Z"
   },
   {
    "duration": 27,
    "start_time": "2024-04-09T07:48:57.819Z"
   },
   {
    "duration": 26,
    "start_time": "2024-04-09T07:49:19.275Z"
   },
   {
    "duration": 81,
    "start_time": "2024-04-09T08:04:00.798Z"
   },
   {
    "duration": 79,
    "start_time": "2024-04-09T08:04:06.143Z"
   },
   {
    "duration": 30,
    "start_time": "2024-04-09T08:04:19.878Z"
   },
   {
    "duration": 86,
    "start_time": "2024-04-09T08:05:46.064Z"
   },
   {
    "duration": 26,
    "start_time": "2024-04-09T08:05:54.274Z"
   },
   {
    "duration": 9,
    "start_time": "2024-04-09T08:10:23.984Z"
   },
   {
    "duration": 3,
    "start_time": "2024-04-09T08:10:55.720Z"
   },
   {
    "duration": 30,
    "start_time": "2024-04-09T08:10:56.407Z"
   },
   {
    "duration": 27,
    "start_time": "2024-04-09T08:12:03.638Z"
   },
   {
    "duration": 26,
    "start_time": "2024-04-09T08:12:32.347Z"
   },
   {
    "duration": 21,
    "start_time": "2024-04-09T08:12:37.594Z"
   },
   {
    "duration": 15,
    "start_time": "2024-04-09T08:14:45.363Z"
   },
   {
    "duration": 35,
    "start_time": "2024-04-09T08:14:59.731Z"
   },
   {
    "duration": 31,
    "start_time": "2024-04-09T08:15:07.880Z"
   },
   {
    "duration": 94,
    "start_time": "2024-04-09T08:16:49.995Z"
   },
   {
    "duration": 65,
    "start_time": "2024-04-09T08:17:03.433Z"
   },
   {
    "duration": 66,
    "start_time": "2024-04-09T08:20:03.887Z"
   },
   {
    "duration": 65,
    "start_time": "2024-04-09T08:20:15.646Z"
   },
   {
    "duration": 65,
    "start_time": "2024-04-09T08:20:19.561Z"
   },
   {
    "duration": 78,
    "start_time": "2024-04-09T08:20:39.926Z"
   },
   {
    "duration": 470,
    "start_time": "2024-04-09T08:22:42.628Z"
   },
   {
    "duration": 9931,
    "start_time": "2024-04-09T08:22:43.100Z"
   },
   {
    "duration": 43,
    "start_time": "2024-04-09T08:22:53.033Z"
   },
   {
    "duration": 103,
    "start_time": "2024-04-09T08:22:53.078Z"
   },
   {
    "duration": 10,
    "start_time": "2024-04-09T08:22:53.182Z"
   },
   {
    "duration": 35,
    "start_time": "2024-04-09T08:22:53.194Z"
   },
   {
    "duration": 10,
    "start_time": "2024-04-09T08:22:53.231Z"
   },
   {
    "duration": 13,
    "start_time": "2024-04-09T08:22:53.242Z"
   },
   {
    "duration": 16,
    "start_time": "2024-04-09T08:22:53.256Z"
   },
   {
    "duration": 74,
    "start_time": "2024-04-09T08:23:20.535Z"
   },
   {
    "duration": 19,
    "start_time": "2024-04-09T08:30:29.521Z"
   },
   {
    "duration": 84,
    "start_time": "2024-04-09T08:40:44.745Z"
   },
   {
    "duration": 21,
    "start_time": "2024-04-09T08:40:59.964Z"
   },
   {
    "duration": 18,
    "start_time": "2024-04-09T08:41:05.789Z"
   },
   {
    "duration": 17,
    "start_time": "2024-04-09T08:41:20.531Z"
   },
   {
    "duration": 17,
    "start_time": "2024-04-09T08:41:28.879Z"
   },
   {
    "duration": 24,
    "start_time": "2024-04-09T08:44:14.881Z"
   },
   {
    "duration": 24,
    "start_time": "2024-04-09T08:44:48.854Z"
   },
   {
    "duration": 23,
    "start_time": "2024-04-09T08:45:01.928Z"
   },
   {
    "duration": 8,
    "start_time": "2024-04-09T08:46:23.860Z"
   },
   {
    "duration": 10,
    "start_time": "2024-04-09T08:47:26.321Z"
   },
   {
    "duration": 14,
    "start_time": "2024-04-09T08:49:39.721Z"
   },
   {
    "duration": 14,
    "start_time": "2024-04-09T08:49:53.420Z"
   },
   {
    "duration": 14,
    "start_time": "2024-04-09T08:50:33.830Z"
   },
   {
    "duration": 514,
    "start_time": "2024-04-09T08:52:11.081Z"
   },
   {
    "duration": 10007,
    "start_time": "2024-04-09T08:52:11.597Z"
   },
   {
    "duration": 42,
    "start_time": "2024-04-09T08:52:21.606Z"
   },
   {
    "duration": 83,
    "start_time": "2024-04-09T08:52:21.650Z"
   },
   {
    "duration": 34,
    "start_time": "2024-04-09T08:52:21.736Z"
   },
   {
    "duration": 84,
    "start_time": "2024-04-09T08:52:21.772Z"
   },
   {
    "duration": 0,
    "start_time": "2024-04-09T08:52:21.858Z"
   },
   {
    "duration": 0,
    "start_time": "2024-04-09T08:52:21.870Z"
   },
   {
    "duration": 0,
    "start_time": "2024-04-09T08:52:21.871Z"
   },
   {
    "duration": 0,
    "start_time": "2024-04-09T08:52:21.872Z"
   },
   {
    "duration": 26,
    "start_time": "2024-04-09T08:53:02.152Z"
   },
   {
    "duration": 489,
    "start_time": "2024-04-09T08:53:08.232Z"
   },
   {
    "duration": 9787,
    "start_time": "2024-04-09T08:53:08.723Z"
   },
   {
    "duration": 41,
    "start_time": "2024-04-09T08:53:18.511Z"
   },
   {
    "duration": 76,
    "start_time": "2024-04-09T08:53:18.553Z"
   },
   {
    "duration": 40,
    "start_time": "2024-04-09T08:53:18.630Z"
   },
   {
    "duration": 23,
    "start_time": "2024-04-09T08:53:18.672Z"
   },
   {
    "duration": 9,
    "start_time": "2024-04-09T08:53:18.697Z"
   },
   {
    "duration": 13,
    "start_time": "2024-04-09T08:53:18.708Z"
   },
   {
    "duration": 10,
    "start_time": "2024-04-09T08:53:18.722Z"
   },
   {
    "duration": 466,
    "start_time": "2024-05-15T09:40:14.151Z"
   },
   {
    "duration": 5995,
    "start_time": "2024-05-15T09:40:14.725Z"
   }
  ],
  "kernelspec": {
   "display_name": "Python 3 (ipykernel)",
   "language": "python",
   "name": "python3"
  },
  "language_info": {
   "codemirror_mode": {
    "name": "ipython",
    "version": 3
   },
   "file_extension": ".py",
   "mimetype": "text/x-python",
   "name": "python",
   "nbconvert_exporter": "python",
   "pygments_lexer": "ipython3",
   "version": "3.9.5"
  },
  "toc": {
   "base_numbering": 1,
   "nav_menu": {
    "height": "360px",
    "width": "268px"
   },
   "number_sections": true,
   "sideBar": true,
   "skip_h1_title": true,
   "title_cell": "Содержание",
   "title_sidebar": "Contents",
   "toc_cell": true,
   "toc_position": {},
   "toc_section_display": true,
   "toc_window_display": true
  }
 },
 "nbformat": 4,
 "nbformat_minor": 2
}
